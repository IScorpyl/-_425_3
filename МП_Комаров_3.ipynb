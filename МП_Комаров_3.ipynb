{
 "cells": [
  {
   "cell_type": "code",
   "execution_count": 1,
   "metadata": {},
   "outputs": [
    {
     "name": "stdout",
     "output_type": "stream",
     "text": [
      "Значение производной по Y для функции P = 1\n",
      "Значение производной по X для функции Q = -6*x - 1\n",
      "P не равно Q,метод полных дифференциалов не применим к нашей функции. \n",
      "Выражение будет приведено к виду: log(y - 3) = log(x) - log(x + 1/3) +ln|c| \n",
      "Наш корень уравнения: 0.1001001001001001\n",
      "None\n"
     ]
    }
   ],
   "source": [
    "import numpy as np \n",
    "import math \n",
    "from sympy import diff, symbols \n",
    "import sympy as sympy \n",
    "a,b,x, y = symbols('a b x y')\n",
    "def main(): \n",
    "    def f(): \n",
    "        return y-3-(3*x**2+x)\n",
    " \n",
    "    def P(): \n",
    "        \n",
    "        a = diff(f(),y) \n",
    "        return a \n",
    "    print(\"Значение производной по Y для функции P =\",P()) \n",
    "    def Q(): \n",
    "        \n",
    "        b = diff(f(),x) \n",
    "        return b \n",
    "    print(\"Значение производной по X для функции Q =\",Q()) \n",
    "    E = 10^(-12) \n",
    "    if a == b: \n",
    "        print(\"Метод полных дифференциалов применим к нашей функции\") \n",
    "    else: \n",
    "        print(\"P не равно Q,метод полных дифференциалов не применим к нашей функции. \") \n",
    "    \n",
    "    f = 1/(y-3) \n",
    "    i1 = sympy.integrate(f, y) \n",
    "    #return i1 \n",
    "    F = 1/(x+3*x**2) \n",
    "    i2 = sympy.integrate(F, x) \n",
    "    #return i2 \n",
    "    print(\"Выражение будет приведено к виду:\",i1,'=',i2,\"+ln|c| \")\n",
    "   \n",
    "   #учитывая, что все функции находятся под логарифмами с одним и тем же основанием, то логарифмы можно убрать. \n",
    "   #y-3 = x/(1+3x) + c1 \n",
    " \n",
    "    def func(x_1,y_1): \n",
    "        return ((y_1-3-x_1-3*x_1**2)/x_1+3*x_1**2)\n",
    " \n",
    "    i=1 \n",
    "    x_1 = np.linspace(0,100,1000) \n",
    "    y_1 = np.linspace(0,100,1000) \n",
    "    y1=func(x_1[i],y_1) \n",
    "    xi=(x_1[i]) \n",
    "    while xi <= E: \n",
    "        i+=1 \n",
    "        y1+=func(x_1[i],y_1) \n",
    "        xi=(x_1[i]) \n",
    " #print(y1) \n",
    "    print(\"Наш корень уравнения:\",xi) \n",
    "print(main())"
   ]
  },
  {
   "cell_type": "code",
   "execution_count": null,
   "metadata": {},
   "outputs": [],
   "source": []
  },
  {
   "cell_type": "code",
   "execution_count": null,
   "metadata": {},
   "outputs": [],
   "source": []
  },
  {
   "cell_type": "code",
   "execution_count": null,
   "metadata": {},
   "outputs": [],
   "source": []
  },
  {
   "cell_type": "code",
   "execution_count": null,
   "metadata": {},
   "outputs": [],
   "source": []
  },
  {
   "cell_type": "code",
   "execution_count": null,
   "metadata": {},
   "outputs": [],
   "source": []
  },
  {
   "cell_type": "code",
   "execution_count": null,
   "metadata": {},
   "outputs": [],
   "source": [
    "\n"
   ]
  },
  {
   "cell_type": "code",
   "execution_count": null,
   "metadata": {},
   "outputs": [],
   "source": []
  }
 ],
 "metadata": {
  "kernelspec": {
   "display_name": "Python 3",
   "language": "python",
   "name": "python3"
  },
  "language_info": {
   "codemirror_mode": {
    "name": "ipython",
    "version": 3
   },
   "file_extension": ".py",
   "mimetype": "text/x-python",
   "name": "python",
   "nbconvert_exporter": "python",
   "pygments_lexer": "ipython3",
   "version": "3.8.5"
  }
 },
 "nbformat": 4,
 "nbformat_minor": 4
}
